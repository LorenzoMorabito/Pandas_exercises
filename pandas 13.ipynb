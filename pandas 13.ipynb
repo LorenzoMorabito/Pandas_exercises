{
 "cells": [
  {
   "cell_type": "markdown",
   "metadata": {},
   "source": [
    "# Exercise 13\n",
    "### Create a dataframe of ten rows, four columns with random values. Write a Pandas program to highlight dataframe’s specific columns with different colors."
   ]
  },
  {
   "cell_type": "code",
   "execution_count": null,
   "metadata": {},
   "outputs": [],
   "source": [
    "import pandas as pd"
   ]
  },
  {
   "cell_type": "code",
   "execution_count": null,
   "metadata": {},
   "outputs": [],
   "source": [
    "df13 = pd.DataFrame(np.zeros((10,4)), columns= list('abcd'))"
   ]
  },
  {
   "cell_type": "code",
   "execution_count": null,
   "metadata": {},
   "outputs": [
    {
     "data": {
      "text/plain": [
       "\" {\\n    'background-color': 'lightblue',\\n    'color': 'darkgreen',\\n    'font-weight': 'bold',\\n    'text-align': 'center'\\n     }\""
      ]
     },
     "metadata": {},
     "output_type": "display_data"
    }
   ],
   "source": [
    "def style13(data, columns, color):\n",
    "    new = data.style.set_properties(subset=columns, **{'background-color': color})\n",
    "    return new\n",
    "\n",
    "# set_properties(subset, **kwargs)\n",
    "# **kwargs -> inserire il parametro preceduto da **\n",
    "#             {parole chiave in forma di dizionario}\n",
    "''' {\n",
    "    'background-color': 'lightblue',\n",
    "    'color': 'darkgreen',\n",
    "    'font-weight': 'bold',\n",
    "    'text-align': 'center'\n",
    "     }'''\n"
   ]
  },
  {
   "cell_type": "code",
   "execution_count": null,
   "metadata": {},
   "outputs": [
    {
     "data": {
      "text/html": [
       "<style type=\"text/css\">\n",
       "#T_6cd8b_row0_col2, #T_6cd8b_row0_col3, #T_6cd8b_row1_col2, #T_6cd8b_row1_col3, #T_6cd8b_row2_col2, #T_6cd8b_row2_col3, #T_6cd8b_row3_col2, #T_6cd8b_row3_col3, #T_6cd8b_row4_col2, #T_6cd8b_row4_col3, #T_6cd8b_row5_col2, #T_6cd8b_row5_col3, #T_6cd8b_row6_col2, #T_6cd8b_row6_col3, #T_6cd8b_row7_col2, #T_6cd8b_row7_col3, #T_6cd8b_row8_col2, #T_6cd8b_row8_col3, #T_6cd8b_row9_col2, #T_6cd8b_row9_col3 {\n",
       "  background-color: red;\n",
       "}\n",
       "</style>\n",
       "<table id=\"T_6cd8b\">\n",
       "  <thead>\n",
       "    <tr>\n",
       "      <th class=\"blank level0\" >&nbsp;</th>\n",
       "      <th id=\"T_6cd8b_level0_col0\" class=\"col_heading level0 col0\" >a</th>\n",
       "      <th id=\"T_6cd8b_level0_col1\" class=\"col_heading level0 col1\" >b</th>\n",
       "      <th id=\"T_6cd8b_level0_col2\" class=\"col_heading level0 col2\" >c</th>\n",
       "      <th id=\"T_6cd8b_level0_col3\" class=\"col_heading level0 col3\" >d</th>\n",
       "    </tr>\n",
       "  </thead>\n",
       "  <tbody>\n",
       "    <tr>\n",
       "      <th id=\"T_6cd8b_level0_row0\" class=\"row_heading level0 row0\" >0</th>\n",
       "      <td id=\"T_6cd8b_row0_col0\" class=\"data row0 col0\" >0.000000</td>\n",
       "      <td id=\"T_6cd8b_row0_col1\" class=\"data row0 col1\" >0.000000</td>\n",
       "      <td id=\"T_6cd8b_row0_col2\" class=\"data row0 col2\" >0.000000</td>\n",
       "      <td id=\"T_6cd8b_row0_col3\" class=\"data row0 col3\" >0.000000</td>\n",
       "    </tr>\n",
       "    <tr>\n",
       "      <th id=\"T_6cd8b_level0_row1\" class=\"row_heading level0 row1\" >1</th>\n",
       "      <td id=\"T_6cd8b_row1_col0\" class=\"data row1 col0\" >0.000000</td>\n",
       "      <td id=\"T_6cd8b_row1_col1\" class=\"data row1 col1\" >0.000000</td>\n",
       "      <td id=\"T_6cd8b_row1_col2\" class=\"data row1 col2\" >0.000000</td>\n",
       "      <td id=\"T_6cd8b_row1_col3\" class=\"data row1 col3\" >0.000000</td>\n",
       "    </tr>\n",
       "    <tr>\n",
       "      <th id=\"T_6cd8b_level0_row2\" class=\"row_heading level0 row2\" >2</th>\n",
       "      <td id=\"T_6cd8b_row2_col0\" class=\"data row2 col0\" >0.000000</td>\n",
       "      <td id=\"T_6cd8b_row2_col1\" class=\"data row2 col1\" >0.000000</td>\n",
       "      <td id=\"T_6cd8b_row2_col2\" class=\"data row2 col2\" >0.000000</td>\n",
       "      <td id=\"T_6cd8b_row2_col3\" class=\"data row2 col3\" >0.000000</td>\n",
       "    </tr>\n",
       "    <tr>\n",
       "      <th id=\"T_6cd8b_level0_row3\" class=\"row_heading level0 row3\" >3</th>\n",
       "      <td id=\"T_6cd8b_row3_col0\" class=\"data row3 col0\" >0.000000</td>\n",
       "      <td id=\"T_6cd8b_row3_col1\" class=\"data row3 col1\" >0.000000</td>\n",
       "      <td id=\"T_6cd8b_row3_col2\" class=\"data row3 col2\" >0.000000</td>\n",
       "      <td id=\"T_6cd8b_row3_col3\" class=\"data row3 col3\" >0.000000</td>\n",
       "    </tr>\n",
       "    <tr>\n",
       "      <th id=\"T_6cd8b_level0_row4\" class=\"row_heading level0 row4\" >4</th>\n",
       "      <td id=\"T_6cd8b_row4_col0\" class=\"data row4 col0\" >0.000000</td>\n",
       "      <td id=\"T_6cd8b_row4_col1\" class=\"data row4 col1\" >0.000000</td>\n",
       "      <td id=\"T_6cd8b_row4_col2\" class=\"data row4 col2\" >0.000000</td>\n",
       "      <td id=\"T_6cd8b_row4_col3\" class=\"data row4 col3\" >0.000000</td>\n",
       "    </tr>\n",
       "    <tr>\n",
       "      <th id=\"T_6cd8b_level0_row5\" class=\"row_heading level0 row5\" >5</th>\n",
       "      <td id=\"T_6cd8b_row5_col0\" class=\"data row5 col0\" >0.000000</td>\n",
       "      <td id=\"T_6cd8b_row5_col1\" class=\"data row5 col1\" >0.000000</td>\n",
       "      <td id=\"T_6cd8b_row5_col2\" class=\"data row5 col2\" >0.000000</td>\n",
       "      <td id=\"T_6cd8b_row5_col3\" class=\"data row5 col3\" >0.000000</td>\n",
       "    </tr>\n",
       "    <tr>\n",
       "      <th id=\"T_6cd8b_level0_row6\" class=\"row_heading level0 row6\" >6</th>\n",
       "      <td id=\"T_6cd8b_row6_col0\" class=\"data row6 col0\" >0.000000</td>\n",
       "      <td id=\"T_6cd8b_row6_col1\" class=\"data row6 col1\" >0.000000</td>\n",
       "      <td id=\"T_6cd8b_row6_col2\" class=\"data row6 col2\" >0.000000</td>\n",
       "      <td id=\"T_6cd8b_row6_col3\" class=\"data row6 col3\" >0.000000</td>\n",
       "    </tr>\n",
       "    <tr>\n",
       "      <th id=\"T_6cd8b_level0_row7\" class=\"row_heading level0 row7\" >7</th>\n",
       "      <td id=\"T_6cd8b_row7_col0\" class=\"data row7 col0\" >0.000000</td>\n",
       "      <td id=\"T_6cd8b_row7_col1\" class=\"data row7 col1\" >0.000000</td>\n",
       "      <td id=\"T_6cd8b_row7_col2\" class=\"data row7 col2\" >0.000000</td>\n",
       "      <td id=\"T_6cd8b_row7_col3\" class=\"data row7 col3\" >0.000000</td>\n",
       "    </tr>\n",
       "    <tr>\n",
       "      <th id=\"T_6cd8b_level0_row8\" class=\"row_heading level0 row8\" >8</th>\n",
       "      <td id=\"T_6cd8b_row8_col0\" class=\"data row8 col0\" >0.000000</td>\n",
       "      <td id=\"T_6cd8b_row8_col1\" class=\"data row8 col1\" >0.000000</td>\n",
       "      <td id=\"T_6cd8b_row8_col2\" class=\"data row8 col2\" >0.000000</td>\n",
       "      <td id=\"T_6cd8b_row8_col3\" class=\"data row8 col3\" >0.000000</td>\n",
       "    </tr>\n",
       "    <tr>\n",
       "      <th id=\"T_6cd8b_level0_row9\" class=\"row_heading level0 row9\" >9</th>\n",
       "      <td id=\"T_6cd8b_row9_col0\" class=\"data row9 col0\" >0.000000</td>\n",
       "      <td id=\"T_6cd8b_row9_col1\" class=\"data row9 col1\" >0.000000</td>\n",
       "      <td id=\"T_6cd8b_row9_col2\" class=\"data row9 col2\" >0.000000</td>\n",
       "      <td id=\"T_6cd8b_row9_col3\" class=\"data row9 col3\" >0.000000</td>\n",
       "    </tr>\n",
       "  </tbody>\n",
       "</table>\n"
      ],
      "text/plain": [
       "<pandas.io.formats.style.Styler at 0x2c20b467d00>"
      ]
     },
     "metadata": {},
     "output_type": "display_data"
    }
   ],
   "source": [
    "style13(df13, ['c', 'd'], 'red')"
   ]
  }
 ],
 "metadata": {
  "language_info": {
   "name": "python"
  },
  "orig_nbformat": 4
 },
 "nbformat": 4,
 "nbformat_minor": 2
}
