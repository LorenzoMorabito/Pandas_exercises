{
 "cells": [
  {
   "cell_type": "markdown",
   "metadata": {},
   "source": [
    "# Exercise 4\n",
    "#### Write a Pandas program to filter the records from the world alcohol consumption dataset where the average consumption of beverages per person (beer, spirit, and wine combined) falls within the range of 0.5 to 2.5. Retrieve the records that include the country, average consumption, region, and GDP per capita."
   ]
  },
  {
   "cell_type": "code",
   "execution_count": null,
   "metadata": {},
   "outputs": [],
   "source": [
    "df['average consumption'] = round((df['beer_servings'] + df['spirit_servings'] + df['wine_servings'])/3, 2)"
   ]
  },
  {
   "cell_type": "code",
   "execution_count": null,
   "metadata": {},
   "outputs": [
    {
     "name": "stdout",
     "output_type": "stream",
     "text": [
      "<class 'pandas.core.frame.DataFrame'>\n",
      "RangeIndex: 177 entries, 0 to 176\n",
      "Data columns (total 8 columns):\n",
      " #   Column               Non-Null Count  Dtype  \n",
      "---  ------               --------------  -----  \n",
      " 0   country              177 non-null    object \n",
      " 1   beer_servings        177 non-null    float64\n",
      " 2   spirit_servings      177 non-null    float64\n",
      " 3   wine_servings        177 non-null    float64\n",
      " 4   life_expentancy      177 non-null    float64\n",
      " 5   region               177 non-null    object \n",
      " 6   gdp_per_capita       177 non-null    int64  \n",
      " 7   average consumption  177 non-null    float64\n",
      "dtypes: float64(5), int64(1), object(2)\n",
      "memory usage: 11.2+ KB\n"
     ]
    }
   ],
   "source": [
    "df.info()  "
   ]
  },
  {
   "cell_type": "code",
   "execution_count": null,
   "metadata": {},
   "outputs": [
    {
     "data": {
      "text/html": [
       "<div>\n",
       "<style scoped>\n",
       "    .dataframe tbody tr th:only-of-type {\n",
       "        vertical-align: middle;\n",
       "    }\n",
       "\n",
       "    .dataframe tbody tr th {\n",
       "        vertical-align: top;\n",
       "    }\n",
       "\n",
       "    .dataframe thead th {\n",
       "        text-align: right;\n",
       "    }\n",
       "</style>\n",
       "<table border=\"1\" class=\"dataframe\">\n",
       "  <thead>\n",
       "    <tr style=\"text-align: right;\">\n",
       "      <th></th>\n",
       "      <th>country</th>\n",
       "      <th>average consumption</th>\n",
       "      <th>region</th>\n",
       "      <th>gdp_per_capita</th>\n",
       "    </tr>\n",
       "  </thead>\n",
       "  <tbody>\n",
       "    <tr>\n",
       "      <th>36</th>\n",
       "      <td>Comoros</td>\n",
       "      <td>1.67</td>\n",
       "      <td>SUB-SAHARAN AFRICA</td>\n",
       "      <td>700</td>\n",
       "    </tr>\n",
       "    <tr>\n",
       "      <th>74</th>\n",
       "      <td>Indonesia</td>\n",
       "      <td>2.00</td>\n",
       "      <td>ASIA (EX. NEAR EAST)</td>\n",
       "      <td>3200</td>\n",
       "    </tr>\n",
       "    <tr>\n",
       "      <th>101</th>\n",
       "      <td>Mali</td>\n",
       "      <td>2.33</td>\n",
       "      <td>SUB-SAHARAN AFRICA</td>\n",
       "      <td>900</td>\n",
       "    </tr>\n",
       "    <tr>\n",
       "      <th>110</th>\n",
       "      <td>Myanmar</td>\n",
       "      <td>2.00</td>\n",
       "      <td>ASIA (EX. NEAR EAST)</td>\n",
       "      <td>1800</td>\n",
       "    </tr>\n",
       "    <tr>\n",
       "      <th>116</th>\n",
       "      <td>Niger</td>\n",
       "      <td>2.00</td>\n",
       "      <td>SUB-SAHARAN AFRICA</td>\n",
       "      <td>800</td>\n",
       "    </tr>\n",
       "    <tr>\n",
       "      <th>134</th>\n",
       "      <td>Saudi Arabia</td>\n",
       "      <td>1.67</td>\n",
       "      <td>NEAR EAST</td>\n",
       "      <td>11800</td>\n",
       "    </tr>\n",
       "    <tr>\n",
       "      <th>157</th>\n",
       "      <td>East Timor</td>\n",
       "      <td>2.00</td>\n",
       "      <td>ASIA (EX. NEAR EAST)</td>\n",
       "      <td>500</td>\n",
       "    </tr>\n",
       "    <tr>\n",
       "      <th>174</th>\n",
       "      <td>Yemen</td>\n",
       "      <td>2.00</td>\n",
       "      <td>NEAR EAST</td>\n",
       "      <td>650</td>\n",
       "    </tr>\n",
       "  </tbody>\n",
       "</table>\n",
       "</div>"
      ],
      "text/plain": [
       "          country  average consumption                region  gdp_per_capita\n",
       "36        Comoros                 1.67    SUB-SAHARAN AFRICA             700\n",
       "74      Indonesia                 2.00  ASIA (EX. NEAR EAST)            3200\n",
       "101          Mali                 2.33    SUB-SAHARAN AFRICA             900\n",
       "110       Myanmar                 2.00  ASIA (EX. NEAR EAST)            1800\n",
       "116         Niger                 2.00    SUB-SAHARAN AFRICA             800\n",
       "134  Saudi Arabia                 1.67             NEAR EAST           11800\n",
       "157    East Timor                 2.00  ASIA (EX. NEAR EAST)             500\n",
       "174         Yemen                 2.00             NEAR EAST             650"
      ]
     },
     "metadata": {},
     "output_type": "display_data"
    }
   ],
   "source": [
    "df[df['average consumption'].between(0.5, 2.5)][['country', 'average consumption', 'region', 'gdp_per_capita']]"
   ]
  }
 ],
 "metadata": {
  "language_info": {
   "name": "python"
  },
  "orig_nbformat": 4
 },
 "nbformat": 4,
 "nbformat_minor": 2
}
